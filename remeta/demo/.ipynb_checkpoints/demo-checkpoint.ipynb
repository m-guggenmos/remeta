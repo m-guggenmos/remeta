{
 "cells": [
  {
   "cell_type": "markdown",
   "metadata": {},
   "source": [
    "# _ReMeta_ Toolbox"
   ]
  },
  {
   "cell_type": "code",
   "execution_count": 1,
   "metadata": {
    "pycharm": {
     "name": "#%%\n"
    }
   },
   "outputs": [
    {
     "name": "stdout",
     "output_type": "stream",
     "text": [
      "Imports succesful\n"
     ]
    }
   ],
   "source": [
    "import matplotlib.pyplot as plt\n",
    "import sys\n",
    "import numpy as np\n",
    "sys.path.extend(['../../'])\n",
    "from remeta.gendata import simu_data\n",
    "from remeta import ReMeta\n",
    "print('Imports succesful')\n",
    "np.random.seed(1)\n",
    "%load_ext autoreload\n",
    "%autoreload 2"
   ]
  },
  {
   "cell_type": "markdown",
   "metadata": {
    "pycharm": {
     "name": "#%% md\n"
    }
   },
   "source": [
    "Let's generate some data to work with. We will generate data based on a noisy-report model (`meta_type='noisy-report'`),\n",
    "which assumes that the dominant source of metacognitive noise occurs at the reporting stage. We assume that\n",
    "metacognitive noise follows a beta distribution (`meta_noise_model='beta_spread'`). In addition, we assume that our\n",
    "hypothetical observer aims at reporting probability correct (`meta_link_function='probability_correct'`)."
   ]
  },
  {
   "cell_type": "code",
   "execution_count": 2,
   "metadata": {
    "pycharm": {
     "name": "#%%\n"
    }
   },
   "outputs": [],
   "source": [
    "options_basic = dict(\n",
    "    meta_link_function='probability_correct',\n",
    "    meta_type='noisy_report',\n",
    "    meta_noise_model='beta'\n",
    ")"
   ]
  },
  {
   "cell_type": "markdown",
   "metadata": {
    "pycharm": {
     "name": "#%% md\n"
    }
   },
   "source": [
    "In a next step, we specify which parameters define our generative model. Note that a basic sensory and metacognitive\n",
    "noise parameter are _not_ optional -- these are hard-coded. All other parameters can be enabled or disabled. At the\n",
    "sensory level, we enable the possibility of separate noise parameters for both stimulus categories\n",
    "(`enable_noise_sens_duplex=True`) and a perceptual bias (`enable_bias_sens=True`) towards one stimulus category. At the\n",
    "metacognitive level, we enable metacognitive biases at the stage of readout (`enable_readout_term_meta=True`) and the\n",
    " stage of the link function (`enable_slope_meta=True`). While the readout term corresponds to an additive/subtractive\n",
    " term for the metacognitive readout of sensory decision values, the confidence slope can be regarded as a bias for the\n",
    " estimation of sensory noise when converting metacognitive evidence to probability correct."
   ]
  },
  {
   "cell_type": "code",
   "execution_count": 3,
   "metadata": {
    "pycharm": {
     "name": "#%%\n"
    }
   },
   "outputs": [],
   "source": [
    "options_enable = dict(\n",
    "    enable_warping_sens=False,\n",
    "    enable_noise_sens_duplex=True,\n",
    "    enable_thresh_sens=False,\n",
    "    enable_bias_sens=True,\n",
    "    enable_noise_multi_sens=False,\n",
    "    enable_readout_term_meta=True,\n",
    "    enable_slope_or_criteria_meta=True,\n",
    "    enable_noise_meta_duplex=False,\n",
    "    enable_noise_multi_meta=False,\n",
    "    enable_scaling_meta=False\n",
    ")"
   ]
  },
  {
   "cell_type": "markdown",
   "metadata": {
    "pycharm": {
     "name": "#%% md\n"
    }
   },
   "source": [
    "Finally, we define the parameters for the generative model. As mentioned, the parameters for sensory noise\n",
    "and metacognitive noise (`noise_meta`) are obligatory. Since we set `enable_noise_sens_duplex=True`, we need to define\n",
    "a noise parameter both for the stimulus category defined as negative (`noise_neg_sens`) and positive (`noise_pos_sens`).\n",
    " Otherwise, a single parameter `noise_sens` would have been sufficient."
   ]
  },
  {
   "cell_type": "code",
   "execution_count": 4,
   "metadata": {
    "pycharm": {
     "name": "#%%\n"
    }
   },
   "outputs": [],
   "source": [
    "params = dict(\n",
    "    noise_neg_sens=0.4,\n",
    "    noise_pos_sens=0.3,\n",
    "    bias_sens=-0.1,\n",
    "    noise_meta=0.2,\n",
    "    readout_term_meta=-0.1,\n",
    "    slope_or_criteria_meta=1.4,\n",
    ")"
   ]
  },
  {
   "cell_type": "markdown",
   "metadata": {
    "pycharm": {
     "name": "#%% md\n"
    }
   },
   "source": [
    "Generate the data:"
   ]
  },
  {
   "cell_type": "code",
   "execution_count": 8,
   "metadata": {
    "pycharm": {
     "name": "#%%\n"
    }
   },
   "outputs": [
    {
     "name": "stdout",
     "output_type": "stream",
     "text": [
      "\tPerformance: 86.60\n"
     ]
    }
   ],
   "source": [
    "data = simu_data(nsubjects=1, nsamples=2000, params=params, print_configuration=False, squeeze=True,\n",
    "                 **options_basic, **options_enable)"
   ]
  },
  {
   "cell_type": "code",
   "execution_count": null,
   "metadata": {
    "pycharm": {
     "name": "#%%\n"
    }
   },
   "outputs": [],
   "source": [
    "rem = ReMeta(true_params=params, **{**options_basic, **options_enable, 'print_configuration': False})\n",
    "rem.fit(data.stimuli, data.choices, data.confidence, verbose=False)\n",
    "result = rem.summary()"
   ]
  },
  {
   "cell_type": "code",
   "execution_count": 7,
   "metadata": {
    "pycharm": {
     "name": "#%%\n"
    }
   },
   "outputs": [
    {
     "name": "stdout",
     "output_type": "stream",
     "text": [
      "noise_neg_sens = 0.369\n",
      "noise_pos_sens = 0.292\n",
      "bias_sens = -0.106\n"
     ]
    }
   ],
   "source": [
    "for k, v in result.model.params_sens.items():\n",
    "    print(f'{k} = {v:.3f}')"
   ]
  }
 ],
 "metadata": {
  "kernelspec": {
   "display_name": "Python 3",
   "language": "python",
   "name": "python3"
  },
  "language_info": {
   "codemirror_mode": {
    "name": "ipython",
    "version": 3
   },
   "file_extension": ".py",
   "mimetype": "text/x-python",
   "name": "python",
   "nbconvert_exporter": "python",
   "pygments_lexer": "ipython3",
   "version": "3.8.10"
  }
 },
 "nbformat": 4,
 "nbformat_minor": 1
}
