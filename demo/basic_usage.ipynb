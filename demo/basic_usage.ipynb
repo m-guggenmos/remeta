{
 "cells": [
  {
   "cell_type": "markdown",
   "source": [
    "## Basic usage\n",
    "\n",
    "In this section, the essential settings to run a ReMeta analysis are introduced.\n",
    "\n",
    "First some essential imports:"
   ],
   "metadata": {
    "collapsed": false
   }
  },
  {
   "cell_type": "code",
   "execution_count": 23,
   "metadata": {
    "pycharm": {
     "name": "#%%\n"
    }
   },
   "outputs": [
    {
     "name": "stdout",
     "output_type": "stream",
     "text": [
      "The autoreload extension is already loaded. To reload it, use:\n",
      "  %reload_ext autoreload\n"
     ]
    }
   ],
   "source": [
    "import numpy as np\n",
    "import remeta\n",
    "np.random.seed(1)  # make notebook reproducible\n",
    "%load_ext autoreload\n",
    "%autoreload 2"
   ]
  },
  {
   "cell_type": "markdown",
   "metadata": {
    "pycharm": {
     "name": "#%% md\n"
    }
   },
   "source": [
    "#### Basic model specification\n",
    "In a first step, we specify the basic nature of the computational model. First, we assumes that the dominant source of metacognitive noise occurs at the stage of the metacognitive readout of type 1 decision values (`meta_noise_type='noisy-readout'`). Second, we assume that metacognitive noise can be described by a censored normal distribution (`meta_noise_model='censored_norm'`). And third, we assume that our hypothetical observer aims at reporting probability correct (`meta_link_function='probability_correct'`)."
   ]
  },
  {
   "cell_type": "code",
   "execution_count": 24,
   "metadata": {
    "pycharm": {
     "name": "#%%\n"
    }
   },
   "outputs": [],
   "source": [
    "options_basic = dict(\n",
    "    meta_link_function='probability_correct',\n",
    "    meta_noise_type='noisy_report',\n",
    "    meta_noise_model='beta'\n",
    ")"
   ]
  },
  {
   "cell_type": "markdown",
   "metadata": {
    "pycharm": {
     "name": "#%% md\n"
    }
   },
   "source": [
    "#### Parameter specification\n",
    "In a next step, we specify the parameters to be included in the generative model. By default, a parametery for sensory noise and metacognitive noise is enabled, as well as parameters for a sensory bias and a confidence slope. Check out the `configuration.py` module for the `enable_XYZ` keywords. Each parameter can either be disabled (`enable_XYZ=0`), enabled (`enable_XYZ=1`) or enabled in duplex mode (`enable_XYZ=2`), which means that separate values are fitted depending on the sign of the stimulus (for sensory parameters) or the sign of the sensory decision value (for metacognitive parameters).\n",
    "\n",
    "Here, we slightly deviate from the defaults by additionally enabling separate noise parameters for both stimulus categories (i.e. `enable_noise_sens=2`), as well as by including a metacognitive readout term (`enable_readout_term_meta=True`). For completeness, we define all available enable_XYZ keywords below, although it suffices to define the ones that differ from the default settings."
   ]
  },
  {
   "cell_type": "code",
   "execution_count": 25,
   "metadata": {
    "pycharm": {
     "name": "#%%\n"
    }
   },
   "outputs": [],
   "source": [
    "options_enable = dict(\n",
    "    enable_warping_sens=0,\n",
    "    enable_noise_sens=2,  # default 1\n",
    "    enable_noise_multi_sens=0,\n",
    "    enable_thresh_sens=0,\n",
    "    enable_bias_sens=1,\n",
    "    enable_noise_meta=1,\n",
    "    enable_noise_multi_meta=0,\n",
    "    enable_readout_term_meta=1,  # default 0\n",
    "    enable_slope_meta=1,\n",
    "    enable_scaling_meta=0,\n",
    "    enable_criteria_meta=0,\n",
    "    enable_levels_meta=0\n",
    ")"
   ]
  },
  {
   "cell_type": "markdown",
   "source": [
    "Based on these settings we can create a configuration object:"
   ],
   "metadata": {
    "collapsed": false
   }
  },
  {
   "cell_type": "code",
   "execution_count": 26,
   "outputs": [],
   "source": [
    "cfg = remeta.Configuration(**options_basic, **options_enable)"
   ],
   "metadata": {
    "collapsed": false,
    "pycharm": {
     "name": "#%%\n"
    }
   }
  },
  {
   "cell_type": "markdown",
   "metadata": {
    "pycharm": {
     "name": "#%% md\n"
    }
   },
   "source": [
    "#### Sample from the generative model\n",
    "To test the model, we generate data based on the generative model outlined above. To this aim, we have to define _specific_ values for each parameter."
   ]
  },
  {
   "cell_type": "code",
   "execution_count": 27,
   "metadata": {
    "pycharm": {
     "name": "#%%\n"
    }
   },
   "outputs": [],
   "source": [
    "params = dict(\n",
    "    noise_sens=[0.3, 0.4],\n",
    "    bias_sens=-0.1,\n",
    "    noise_meta=0.2,\n",
    "    readout_term_meta=-0.1,\n",
    "    slope_meta=1.4,\n",
    ")"
   ]
  },
  {
   "cell_type": "markdown",
   "metadata": {
    "pycharm": {
     "name": "#%% md\n"
    }
   },
   "source": [
    "Note that we defined `noise_sens` as a vector, such that `noise_sens[0]` and `noise_sens[1]` correspond to the sensory noise for the negative and positive stimulus category, respectively.\n",
    "\n",
    "We generate 2000 samples for a single participant. The option `stimulus_stepsize` creates stimuli between `stimulus_stepsize` and 1 in steps of `stimulus_stepsize` (i.e., for a setting of 0.25, there are four different intensities: 0.25, 0.5 0.75, 1)."
   ]
  },
  {
   "cell_type": "code",
   "execution_count": 28,
   "metadata": {
    "pycharm": {
     "name": "#%%\n"
    }
   },
   "outputs": [
    {
     "name": "stdout",
     "output_type": "stream",
     "text": [
      "----------------------------------\n",
      "Basic stats of the simulated data:\n",
      "    Performance: 92.0% correct\n",
      "    Confidence: 0.67 ± 0.01\n",
      "    Choice bias: +2.6%\n",
      "    AUROC2: 0.76\n",
      "----------------------------------\n"
     ]
    }
   ],
   "source": [
    "data = remeta.simu_data(nsubjects=1, nsamples=2000, params=params, squeeze=True, stimuli_stepsize=0.25, cfg=cfg)"
   ]
  },
  {
   "cell_type": "markdown",
   "source": [
    "#### Visualizing the simulated data\n",
    "\n",
    "Let's take a look at the psychometric curve:"
   ],
   "metadata": {
    "collapsed": false,
    "pycharm": {
     "name": "#%% md\n"
    }
   }
  },
  {
   "cell_type": "code",
   "execution_count": 29,
   "outputs": [
    {
     "data": {
      "text/plain": "<Figure size 432x288 with 1 Axes>",
      "image/png": "[encoded data removed]"
     },
     "metadata": {
      "needs_background": "light"
     },
     "output_type": "display_data"
    }
   ],
   "source": [
    "remeta.plot_psychometric(cfg, data.choices, data.stimuli, data.params_sens);"
   ],
   "metadata": {
    "collapsed": false,
    "pycharm": {
     "name": "#%%\n"
    }
   }
  },
  {
   "cell_type": "markdown",
   "source": [
    "Note that the purple line is not a fit, but a logistic function based on the true parameters. At zero, there is a discontinuity due the different noise parameters for stimulus>0 and stimulus<0. Moreover, the curve is shifted to the left due to the negative bias parameter.\n",
    "\n",
    "Next, we plot the relationship between stimulus intensity and confidence:"
   ],
   "metadata": {
    "collapsed": false,
    "pycharm": {
     "name": "#%% md\n"
    }
   }
  },
  {
   "cell_type": "code",
   "execution_count": 30,
   "outputs": [
    {
     "data": {
      "text/plain": "<Figure size 432x288 with 1 Axes>",
      "image/png": "[encoded data removed]"
     },
     "metadata": {
      "needs_background": "light"
     },
     "output_type": "display_data"
    }
   ],
   "source": [
    "remeta.plot_confidence(data.stimuli, data.confidence);"
   ],
   "metadata": {
    "collapsed": false,
    "pycharm": {
     "name": "#%%\n"
    }
   }
  },
  {
   "cell_type": "markdown",
   "source": [
    "We can see that the confidence slope for negative stimuli is a bit steeper. This is because we had introduced an assymmetry in the type 1 noise between the positive and the negative stimulus category. Since we further assume an observer that reports probability correct based on an estimate of type 1 noise, confidence appears more 'sensitive' for the negative stimulus category (remember that we set _lower_ type 1 noise for stimulus<0 relative to stimulus>0)."
   ],
   "metadata": {
    "collapsed": false,
    "pycharm": {
     "name": "#%% md\n"
    }
   }
  },
  {
   "cell_type": "markdown",
   "source": [
    "#### Model fit\n",
    "We now need to create an instance of ReMeta. We pass the true parameters to the configuration as well, which is of course only possible with simulated data. We'll come back to this later."
   ],
   "metadata": {
    "collapsed": false,
    "pycharm": {
     "name": "#%% md\n"
    }
   }
  },
  {
   "cell_type": "code",
   "execution_count": 31,
   "metadata": {
    "pycharm": {
     "name": "#%%\n"
    }
   },
   "outputs": [],
   "source": [
    "cfg.true_params = params\n",
    "rem = remeta.ReMeta(cfg=cfg)\n",
    "# Note we could have initialized the class also without creating the configuration instance:\n",
    "# rem = remeta.ReMeta(true_params=params, **options_basic, **options_enable)"
   ]
  },
  {
   "cell_type": "markdown",
   "source": [
    "Now, everything is in place to fit the model to the simulated data:"
   ],
   "metadata": {
    "collapsed": false
   }
  },
  {
   "cell_type": "code",
   "execution_count": 32,
   "outputs": [
    {
     "name": "stdout",
     "output_type": "stream",
     "text": [
      "\n",
      "+++ Sensory component +++\n",
      "Initial neg. LL: 1016.59\n",
      "    [initial] noise_sens_0: 0.1\n",
      "    [initial] noise_sens_1: 0.1\n",
      "    [initial] bias_sens: 0\n",
      "Performing local optimization\n",
      "    [final] noise_sens: [0.273, 0.403] (true: [0.300, 0.400])\n",
      "    [final] bias_sens: -0.141 (true: -0.100)\n",
      "Final neg. LL: 444.96\n",
      "Neg. LL using true params: 446.73\n",
      "Stats: 0.60 secs, 444 fevs\n",
      "\n",
      "+++ Metacognitive component +++\n",
      "Initial neg. LL: 12396.19\n",
      "    [initial] noise_meta: 0.2\n",
      "    [initial] readout_term_meta: 0\n",
      "    [initial] slope_meta: 1\n",
      "Grid search activated (grid size = 300)\n",
      "    [grid] noise_meta: 0.25\n",
      "    [grid] readout_term_meta: -0.1\n",
      "    [grid] slope_meta: 1.7\n",
      "Grid neg. LL: 12362.7\n",
      "Grid stats: 55.99 secs\n",
      "Performing local optimization\n",
      "    [final] noise_meta: 0.231 (true: 0.200)\n",
      "    [final] readout_term_meta: -0.119 (true: -0.100)\n",
      "    [final] slope_meta: 1.956 (true: 1.400)\n",
      "Final neg. LL: 12355.26\n",
      "Neg. LL using true params: 12365.73\n",
      "Stats: 13.59 secs, 97 fevs\n"
     ]
    }
   ],
   "source": [
    "rem.fit(data.stimuli, data.choices, data.confidence, verbose=True)"
   ],
   "metadata": {
    "collapsed": false,
    "pycharm": {
     "name": "#%%\n"
    }
   }
  },
  {
   "cell_type": "markdown",
   "source": [
    "Obtain the fitting result:"
   ],
   "metadata": {
    "collapsed": false
   }
  },
  {
   "cell_type": "code",
   "execution_count": 33,
   "outputs": [],
   "source": [
    "result = rem.summary(extended=True)"
   ],
   "metadata": {
    "collapsed": false,
    "pycharm": {
     "name": "#%%\n"
    }
   }
  },
  {
   "cell_type": "markdown",
   "source": [
    "Through the setting `extended=True`, the result object additionally contains a number of latent model variables (which take up quite some space, hence optional)."
   ],
   "metadata": {
    "collapsed": false,
    "pycharm": {
     "name": "#%% md\n"
    }
   }
  },
  {
   "cell_type": "markdown",
   "source": [
    "#### Inspecting the model fit\n",
    "\n",
    "The parameters are stored in the attribute `model`. We've seen the estimated parameters already printed above, but they are also stored in the result object:"
   ],
   "metadata": {
    "collapsed": false
   }
  },
  {
   "cell_type": "code",
   "execution_count": 34,
   "metadata": {
    "pycharm": {
     "name": "#%%\n"
    }
   },
   "outputs": [
    {
     "name": "stdout",
     "output_type": "stream",
     "text": [
      "{'noise_sens': [0.2728292024609163, 0.40327027769008217], 'bias_sens': -0.14133024191629398}\n"
     ]
    }
   ],
   "source": [
    "print(result.model.params_sens)\n"
   ]
  },
  {
   "cell_type": "markdown",
   "source": [
    "Given that the original parameter were `noise_sens=[0.3, 0.4]` and `bias_sens=-0.1`, this is not too bad. We have recovered the original parameters to some approximation. Nevertheless, the fitted parameters do not _exactly_ match our generative parameters. Since we passed the true parameters, the result object allows us to check whether this is because the optimization routine did not find the global minimum or whether the imprecision is in the data itself. Specifically, the result object contains both the likelihood of the fitted parameters and the likelihood of the true parameters:"
   ],
   "metadata": {
    "collapsed": false,
    "pycharm": {
     "name": "#%% md\n"
    }
   }
  },
  {
   "cell_type": "code",
   "execution_count": 35,
   "outputs": [
    {
     "name": "stdout",
     "output_type": "stream",
     "text": [
      "Negative log-likelihood of true sensory parameters: 446.7\n",
      "Negative log-likelihood of fitted sensory  parameters: 445.0\n"
     ]
    }
   ],
   "source": [
    "print(f'Negative log-likelihood of true sensory parameters: {result.model.fit.fit_sens.negll_true:.1f}')\n",
    "print(f'Negative log-likelihood of fitted sensory  parameters: {result.model.fit.fit_sens.negll:.1f}')"
   ],
   "metadata": {
    "collapsed": false,
    "pycharm": {
     "name": "#%%\n"
    }
   }
  },
  {
   "cell_type": "markdown",
   "source": [
    "The negative log-likelihood is smaller for the fitted parameters, i.e. the likelihood is higher for the fitted than the true parameters. We can thus be confident in the obtained parameters.\n",
    "\n",
    "Next, we take a look at the metacognitive parameters:"
   ],
   "metadata": {
    "collapsed": false,
    "pycharm": {
     "name": "#%% md\n"
    }
   }
  },
  {
   "cell_type": "code",
   "execution_count": 36,
   "outputs": [
    {
     "name": "stdout",
     "output_type": "stream",
     "text": [
      "{'noise_meta': 0.23122399581639186, 'readout_term_meta': -0.11850102857601251, 'slope_meta': 1.9555948902758504}\n"
     ]
    }
   ],
   "source": [
    "print(result.model.params_meta)\n"
   ],
   "metadata": {
    "collapsed": false,
    "pycharm": {
     "name": "#%%\n"
    }
   }
  },
  {
   "cell_type": "code",
   "execution_count": 37,
   "outputs": [
    {
     "name": "stdout",
     "output_type": "stream",
     "text": [
      "Negative log-likelihood of true metacognitive parameters: 12365.7\n",
      "Negative log-likelihood of fitted metacognitive parameters: 12355.3\n"
     ]
    }
   ],
   "source": [
    "print(f'Negative log-likelihood of true metacognitive parameters: {result.model.fit.fit_meta.negll_true:.1f}')\n",
    "print(f'Negative log-likelihood of fitted metacognitive parameters: {result.model.fit.fit_meta.negll:.1f}')"
   ],
   "metadata": {
    "collapsed": false,
    "pycharm": {
     "name": "#%%\n"
    }
   }
  },
  {
   "cell_type": "markdown",
   "source": [
    "Similar story! The recovered parameters are similar to the true parameters and the likelihhod is better for the fitted parameters.\n",
    "\n",
    "Using the model fit, we can now visualize confidence (based on the data and the fitted model) as a function of model-predicted sensory decision values:"
   ],
   "metadata": {
    "collapsed": false,
    "pycharm": {
     "name": "#%% md\n"
    }
   }
  },
  {
   "cell_type": "code",
   "execution_count": 38,
   "outputs": [
    {
     "data": {
      "text/plain": "<Figure size 432x288 with 1 Axes>",
      "image/png": "[encoded data removed]"
     },
     "metadata": {
      "needs_background": "light"
     },
     "output_type": "display_data"
    }
   ],
   "source": [
    "remeta.plot_link_function(\n",
    "    cfg, data.stimuli, data.confidence, result.model.extended.dv_sens_mode, result.model.params_sens,\n",
    "    result.model.params_meta\n",
    ");"
   ],
   "metadata": {
    "collapsed": false,
    "pycharm": {
     "name": "#%%\n"
    }
   }
  },
  {
   "cell_type": "markdown",
   "source": [
    "The large overlap between data- and model-based confidence ratings is of course not surprising, since the data were generated with a model of identical architecture and similar parameters. Overlayed in purple is the link function that maps type 1 decision values to confidence."
   ],
   "metadata": {
    "collapsed": false,
    "pycharm": {
     "name": "#%% md\n"
    }
   }
  },
  {
   "cell_type": "code",
   "execution_count": 39,
   "outputs": [],
   "source": [
    "# import matplotlib.pyplot as plt\n",
    "# plt.figure(figsize=(10, 5))\n",
    "# remeta.plot_confidence_dist(\n",
    "#     cfg, data.stimuli, data.confidence, result.model.params_sens, result.model.params_meta,\n",
    "#     var_likelihood=result.model.extended.confidence, noise_meta_transformed=result.model.extended.noise_meta,\n",
    "#     dv_sens=result.model.extended.dv_sens, likelihood_weighting=result.model.extended.dv_sens_pmf\n",
    "# );"
   ],
   "metadata": {
    "collapsed": false,
    "pycharm": {
     "name": "#%%\n"
    }
   }
  }
 ],
 "metadata": {
  "kernelspec": {
   "display_name": "Python 3",
   "language": "python",
   "name": "python3"
  },
  "language_info": {
   "codemirror_mode": {
    "name": "ipython",
    "version": 3
   },
   "file_extension": ".py",
   "mimetype": "text/x-python",
   "name": "python",
   "nbconvert_exporter": "python",
   "pygments_lexer": "ipython3",
   "version": "3.8.10"
  }
 },
 "nbformat": 4,
 "nbformat_minor": 1
}