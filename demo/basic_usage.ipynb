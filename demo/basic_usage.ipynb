{
 "cells": [
  {
   "cell_type": "markdown",
   "source": [
    "## Basic usage"
   ],
   "metadata": {
    "collapsed": false
   }
  },
  {
   "cell_type": "code",
   "execution_count": 1,
   "metadata": {
    "pycharm": {
     "name": "#%%\n"
    }
   },
   "outputs": [
    {
     "name": "stdout",
     "output_type": "stream",
     "text": [
      "Imports succesful\n"
     ]
    }
   ],
   "source": [
    "import matplotlib.pyplot as plt\n",
    "import numpy as np\n",
    "from remeta.gendata import simu_data\n",
    "from remeta.plot import plot_psychometric, plot_link_function\n",
    "from remeta.configuration import Configuration\n",
    "from remeta import ReMeta\n",
    "print('Imports succesful')\n",
    "np.random.seed(1)\n",
    "%load_ext autoreload\n",
    "%autoreload 2\n"
   ]
  },
  {
   "cell_type": "markdown",
   "metadata": {
    "pycharm": {
     "name": "#%% md\n"
    }
   },
   "source": [
    "Let's generate some data to work with. We will generate data based on a noisy-report model (`meta_noise_type='noisy-report'`), which assumes that the dominant source of metacognitive noise occurs at the reporting stage. We assume that metacognitive noise follows a beta distribution (`meta_noise_model='beta'`). In addition, we assume that our hypothetical observer aims at reporting probability correct (`meta_link_function='probability_correct'`)."
   ]
  },
  {
   "cell_type": "code",
   "execution_count": 49,
   "metadata": {
    "pycharm": {
     "name": "#%%\n"
    }
   },
   "outputs": [],
   "source": [
    "options_basic = dict(\n",
    "    meta_link_function='probability_correct',\n",
    "    meta_noise_type='noisy_report',\n",
    "    meta_noise_model='beta'\n",
    ")"
   ]
  },
  {
   "cell_type": "markdown",
   "metadata": {
    "pycharm": {
     "name": "#%% md\n"
    }
   },
   "source": [
    "In a next step, we specify the parameters to be included in the generative model. By default, a parametery for sensory noise and metacognitive noise is enable, as well as parameters for a sensory bias and a confidence slope. Check out the `configuration.py` module for the `enable_XYZ` keywords. Each parameter can either be disabled (`enable_XYZ=0`), enabled (`enable_XYZ=1`) or enabled in duplex mode (`enable_XYZ=2`), which means that separate values are fitted depending on the sign of the stimulus (for sensory parameters) or the sign of the sensory decision value (for metacognitive parameters).\n",
    "\n",
    "Here, we additionally enable the possibility of separate noise parameters for both stimulus categories (i.e. `enable_noise_sens=2`) and a metacognitive readout term (`enable_readout_term_meta=True`). For completeness, we define all available enable_XYZ keywords below, although it suffices to define those which differ from the default setting."
   ]
  },
  {
   "cell_type": "code",
   "execution_count": 50,
   "metadata": {
    "pycharm": {
     "name": "#%%\n"
    }
   },
   "outputs": [],
   "source": [
    "options_enable = dict(\n",
    "    enable_warping_sens=0,\n",
    "    enable_noise_sens=2,  # default 1\n",
    "    enable_noise_multi_sens=0,\n",
    "    enable_thresh_sens=0,\n",
    "    enable_bias_sens=1,\n",
    "    enable_noise_meta=1,\n",
    "    enable_noise_multi_meta=0,\n",
    "    enable_readout_term_meta=1,  # default 0\n",
    "    enable_slope_meta=1,\n",
    "    enable_scaling_meta=0,\n",
    "    enable_criteria_meta=0,\n",
    "    enable_levels_meta=0\n",
    ")"
   ]
  },
  {
   "cell_type": "markdown",
   "metadata": {
    "pycharm": {
     "name": "#%% md\n"
    }
   },
   "source": [
    "Finally, we define _specific_ parameters values to sample data from the model defined above. We define `noise_sens` as a vector, whereby `noise_sens[0]` and `noise_sens[1]` correspond to the sensory noise for the negative and positive stimulus category, respectively."
   ]
  },
  {
   "cell_type": "code",
   "execution_count": 51,
   "metadata": {
    "pycharm": {
     "name": "#%%\n"
    }
   },
   "outputs": [],
   "source": [
    "params = dict(\n",
    "    noise_sens=[0.3, 0.4],\n",
    "    bias_sens=-0.1,\n",
    "    noise_meta=0.2,\n",
    "    readout_term_meta=-0.1,\n",
    "    slope_meta=1.4,\n",
    ")"
   ]
  },
  {
   "cell_type": "markdown",
   "metadata": {
    "pycharm": {
     "name": "#%% md\n"
    }
   },
   "source": [
    "We generate 2000 samples for a single participant."
   ]
  },
  {
   "cell_type": "code",
   "execution_count": 52,
   "metadata": {
    "pycharm": {
     "name": "#%%\n"
    }
   },
   "outputs": [
    {
     "name": "stdout",
     "output_type": "stream",
     "text": [
      "\tPerformance: 87.50\n"
     ]
    }
   ],
   "source": [
    "data = simu_data(nsubjects=1, nsamples=2000, params=params, print_configuration=False, squeeze=True,\n",
    "                 **options_basic, **options_enable)"
   ]
  },
  {
   "cell_type": "code",
   "execution_count": 53,
   "outputs": [
    {
     "data": {
      "text/plain": "<AxesSubplot:xlabel='Stimulus ($x$)', ylabel='Choice probability $S^+$'>"
     },
     "execution_count": 53,
     "metadata": {},
     "output_type": "execute_result"
    },
    {
     "data": {
      "text/plain": "<Figure size 432x288 with 1 Axes>",
      "image/png": "[encoded data removed]"
     },
     "metadata": {
      "needs_background": "light"
     },
     "output_type": "display_data"
    }
   ],
   "source": [
    "cfg = Configuration(**{**options_basic, **options_enable, 'print_configuration': False})\n",
    "plot_psychometric(cfg, data.choices, data.stimuli, data.params_sens)"
   ],
   "metadata": {
    "collapsed": false,
    "pycharm": {
     "name": "#%%\n"
    }
   }
  },
  {
   "cell_type": "markdown",
   "source": [
    "Define the model. Here we pass the true parameters as well, which is of course only possible with simulated data. We'll\n",
    "come back to this later."
   ],
   "metadata": {
    "collapsed": false,
    "pycharm": {
     "name": "#%% md\n"
    }
   }
  },
  {
   "cell_type": "code",
   "execution_count": 54,
   "metadata": {
    "pycharm": {
     "name": "#%%\n"
    }
   },
   "outputs": [],
   "source": [
    "rem = ReMeta(true_params=params, **{**options_basic, **options_enable, 'print_configuration': False})"
   ]
  },
  {
   "cell_type": "markdown",
   "source": [
    "Fit the data:"
   ],
   "metadata": {
    "collapsed": false
   }
  },
  {
   "cell_type": "code",
   "execution_count": 55,
   "outputs": [],
   "source": [
    "rem.fit(data.stimuli, data.choices, data.confidence, verbose=False)"
   ],
   "metadata": {
    "collapsed": false,
    "pycharm": {
     "name": "#%%\n"
    }
   }
  },
  {
   "cell_type": "markdown",
   "source": [
    "Obtain the fitting result:"
   ],
   "metadata": {
    "collapsed": false
   }
  },
  {
   "cell_type": "code",
   "execution_count": 56,
   "outputs": [],
   "source": [
    "result = rem.summary(extended=True)"
   ],
   "metadata": {
    "collapsed": false,
    "pycharm": {
     "name": "#%%\n"
    }
   }
  },
  {
   "cell_type": "markdown",
   "source": [
    "The parameters are stored in the attribute `model`. Let's take a look at the fit for the sensory parameters:"
   ],
   "metadata": {
    "collapsed": false
   }
  },
  {
   "cell_type": "code",
   "execution_count": 57,
   "metadata": {
    "pycharm": {
     "name": "#%%\n"
    }
   },
   "outputs": [
    {
     "name": "stdout",
     "output_type": "stream",
     "text": [
      "noise_sens = [0.271, 0.385]\n",
      "bias_sens = -0.080\n"
     ]
    }
   ],
   "source": [
    "for k, v in result.model.params_sens.items():\n",
    "    print(f\"{k} = [{', '.join([f'{p:.3f}' for p in v])}]\" if hasattr(v, '__len__') else f\"{k} = {v:.3f}\")"
   ]
  },
  {
   "cell_type": "markdown",
   "source": [
    "This is not too bad. We have recovered the original parameters to some approximation. Nevertheless, the fitted parameters do not _exactly_ match our generative paramaeters. Since we passed the true parameters, the result object allows us to check whether this is because the optimization routine did not find the global minimum or whether the imprecision is in the data itself. Specifically, the result object contains both the likelihood of the fitted parameters and the likelihood of the true parameters:"
   ],
   "metadata": {
    "collapsed": false,
    "pycharm": {
     "name": "#%% md\n"
    }
   }
  },
  {
   "cell_type": "code",
   "execution_count": 58,
   "outputs": [
    {
     "name": "stdout",
     "output_type": "stream",
     "text": [
      "Negative log-likelihood of true sensory parameters: 573.4\n",
      "Negative log-likelihood of fitted sensory  parameters: 570.1\n"
     ]
    }
   ],
   "source": [
    "print(f'Negative log-likelihood of true sensory parameters: {result.model.fit.fit_sens.negll_true:.1f}')\n",
    "print(f'Negative log-likelihood of fitted sensory  parameters: {result.model.fit.fit_sens.negll:.1f}')"
   ],
   "metadata": {
    "collapsed": false,
    "pycharm": {
     "name": "#%%\n"
    }
   }
  },
  {
   "cell_type": "markdown",
   "source": [
    "The negative log-likelihood is smaller for the fitted parameters, i.e. the likelihood is higher for the fitted than the true parameters. We can thus be confident in the obtained parameters.\n",
    "\n",
    "Next station - metacognitive parameters:"
   ],
   "metadata": {
    "collapsed": false,
    "pycharm": {
     "name": "#%% md\n"
    }
   }
  },
  {
   "cell_type": "code",
   "execution_count": 59,
   "outputs": [
    {
     "name": "stdout",
     "output_type": "stream",
     "text": [
      "noise_meta = 0.199\n",
      "readout_term_meta = -0.135\n",
      "slope_meta = 1.587\n"
     ]
    }
   ],
   "source": [
    "for k, v in result.model.params_meta.items():\n",
    "    print(f\"{k} = [{', '.join([f'{p:.3f}' for p in v])}]\" if hasattr(v, '__len__') else f\"{k} = {v:.3f}\")"
   ],
   "metadata": {
    "collapsed": false,
    "pycharm": {
     "name": "#%%\n"
    }
   }
  },
  {
   "cell_type": "code",
   "execution_count": 60,
   "outputs": [
    {
     "name": "stdout",
     "output_type": "stream",
     "text": [
      "Negative log-likelihood of true metacognitive parameters: 12534.3\n",
      "Negative log-likelihood of fitted metacognitive parameters: 12530.4\n"
     ]
    }
   ],
   "source": [
    "print(f'Negative log-likelihood of true metacognitive parameters: {result.model.fit.fit_meta.negll_true:.1f}')\n",
    "print(f'Negative log-likelihood of fitted metacognitive parameters: {result.model.fit.fit_meta.negll:.1f}')"
   ],
   "metadata": {
    "collapsed": false,
    "pycharm": {
     "name": "#%%\n"
    }
   }
  },
  {
   "cell_type": "markdown",
   "source": [
    "Similar story! The recovered parameters are similar to the true parameters and the likelihhod is better for the fitted parameters.\n",
    "\n",
    "Now for some plotting."
   ],
   "metadata": {
    "collapsed": false,
    "pycharm": {
     "name": "#%% md\n"
    }
   }
  },
  {
   "cell_type": "code",
   "execution_count": 83,
   "outputs": [
    {
     "data": {
      "text/plain": "<AxesSubplot:xlabel='Sensory decision value ($y$)', ylabel='Confidence'>"
     },
     "execution_count": 83,
     "metadata": {},
     "output_type": "execute_result"
    },
    {
     "data": {
      "text/plain": "<Figure size 432x288 with 1 Axes>",
      "image/png": "[encoded data removed]"
     },
     "metadata": {
      "needs_background": "light"
     },
     "output_type": "display_data"
    }
   ],
   "source": [
    "plot_link_function(cfg, data.stimuli, data.confidence, result.model.extended.dv_sens_mode,\n",
    "                   result.model.params_sens, result.model.params_meta,\n",
    "                   plot_likelihood=False, var_likelihood=result.model.extended.confidence,\n",
    "                   noise_meta_transformed=result.model.extended.noise_meta, dv_range=(45, 50, 55))"
   ],
   "metadata": {
    "collapsed": false,
    "pycharm": {
     "name": "#%%\n"
    }
   }
  }
 ],
 "metadata": {
  "kernelspec": {
   "display_name": "Python 3",
   "language": "python",
   "name": "python3"
  },
  "language_info": {
   "codemirror_mode": {
    "name": "ipython",
    "version": 3
   },
   "file_extension": ".py",
   "mimetype": "text/x-python",
   "name": "python",
   "nbconvert_exporter": "python",
   "pygments_lexer": "ipython3",
   "version": "3.8.10"
  }
 },
 "nbformat": 4,
 "nbformat_minor": 1
}