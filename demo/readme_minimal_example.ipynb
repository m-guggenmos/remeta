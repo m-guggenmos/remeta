{
 "cells": [
  {
   "cell_type": "code",
   "execution_count": 1,
   "outputs": [
    {
     "name": "stdout",
     "output_type": "stream",
     "text": [
      "Loading dataset 'simple' which was generated with the following parameters:\n",
      "    [true] noise_sens: 0.4\n",
      "    [true] bias_sens: 0.2\n",
      "    [true] noise_meta: 0.4\n",
      "    [true] slope_meta: 1.2\n",
      "No. subjects: 1, No. samples: 2000\n",
      "\n",
      "+++ Sensory component +++\n",
      "Initial neg. LL: 1597.00\n",
      "    [initial] noise_sens: 0.1\n",
      "    [initial] bias_sens: 0\n",
      "Performing local optimization\n",
      "    [final] noise_sens: 0.405\n",
      "    [final] bias_sens: 0.179\n",
      "Final neg. LL: 555.42\n",
      "Stats: 0.30 secs, 231 fevs\n",
      "\n",
      "+++ Metacognitive component +++\n",
      "Initial neg. LL: 13239.78\n",
      "    [initial] noise_meta: 0.2\n",
      "    [initial] slope_meta: 1\n",
      "Grid search activated (grid size = 60)\n",
      "    [grid] noise_meta: 0.35\n",
      "    [grid] slope_meta: 0.8\n",
      "Grid neg. LL: 12924.7\n",
      "Grid stats: 8.17 secs\n",
      "Performing local optimization\n",
      "    [final] noise_meta: 0.400\n",
      "    [final] slope_meta: 1.168\n",
      "Final neg. LL: 12911.61\n",
      "Stats: 3.11 secs, 27 fevs\n"
     ]
    }
   ],
   "source": [
    "# Minimal example\n",
    "import remeta\n",
    "stimuli, choices, confidence = remeta.load_dataset('simple')\n",
    "rem = remeta.ReMeta()\n",
    "rem.fit(stimuli, choices, confidence)"
   ],
   "metadata": {
    "collapsed": false,
    "pycharm": {
     "name": "#%%\n"
    }
   }
  }
 ],
 "metadata": {
  "kernelspec": {
   "display_name": "Python 3",
   "language": "python",
   "name": "python3"
  },
  "language_info": {
   "codemirror_mode": {
    "name": "ipython",
    "version": 2
   },
   "file_extension": ".py",
   "mimetype": "text/x-python",
   "name": "python",
   "nbconvert_exporter": "python",
   "pygments_lexer": "ipython2",
   "version": "2.7.6"
  }
 },
 "nbformat": 4,
 "nbformat_minor": 0
}