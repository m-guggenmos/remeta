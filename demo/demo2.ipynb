{
 "cells": [
  {
   "cell_type": "code",
   "execution_count": 1,
   "outputs": [
    {
     "name": "stdout",
     "output_type": "stream",
     "text": [
      "Loading dataset 'simple' which was generated with the following parameters:\n",
      "    [true] noise_sens: 0.4\n",
      "    [true] bias_sens: 0.2\n",
      "    [true] noise_meta: 0.4\n",
      "    [true] slope_meta: 1.2\n",
      "No. subjects: 1, No. samples: 2000\n",
      "\n",
      "+++ Sensory component +++\n",
      "Initial neg. LL: 1705.83\n",
      "    [initial] noise_sens: 0.1\n",
      "    [initial] bias_sens: 0\n",
      "Performing local optimization\n",
      "    [final] noise_sens: 0.410\n",
      "    [final] bias_sens: 0.204\n",
      "Final neg. LL: 565.94\n",
      "Stats: 0.44 secs, 345 fevs\n",
      "\n",
      "+++ Metacognitive component +++\n",
      "Initial neg. LL: 13235.35\n",
      "    [initial] noise_meta: 0.2\n",
      "    [initial] slope_meta: 1\n",
      "Grid search activated (grid size = 60)\n",
      "    [grid] noise_meta: 0.35\n",
      "    [grid] slope_meta: 0.8\n",
      "Grid neg. LL: 12936.1\n",
      "Grid stats: 9.88 secs\n",
      "Performing local optimization\n",
      "    [final] noise_meta: 0.403\n",
      "    [final] slope_meta: 1.446\n",
      "Final neg. LL: 12918.70\n",
      "Stats: 4.91 secs, 28 fevs\n"
     ]
    }
   ],
   "source": [
    "import remeta\n",
    "stimuli, choices, confidence = remeta.load_dataset('simple')\n",
    "rem = remeta.ReMeta()\n",
    "rem.fit(stimuli, choices, confidence)"
   ],
   "metadata": {
    "collapsed": false,
    "pycharm": {
     "name": "#%%\n"
    }
   }
  }
 ],
 "metadata": {
  "kernelspec": {
   "display_name": "Python 3",
   "language": "python",
   "name": "python3"
  },
  "language_info": {
   "codemirror_mode": {
    "name": "ipython",
    "version": 3
   },
   "file_extension": ".py",
   "mimetype": "text/x-python",
   "name": "python",
   "nbconvert_exporter": "python",
   "pygments_lexer": "ipython3",
   "version": "3.8.10"
  }
 },
 "nbformat": 4,
 "nbformat_minor": 1
}